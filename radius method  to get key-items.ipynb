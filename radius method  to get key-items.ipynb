{
 "cells": [
  {
   "cell_type": "code",
   "execution_count": 1,
   "metadata": {},
   "outputs": [],
   "source": [
    "import cv2\n",
    "import pytesseract\n",
    "from typing import OrderedDict\n",
    "from math import ceil\n",
    "import re\n",
    "import matplotlib.pyplot as plt\n",
    "%matplotlib inline\n",
    "plt.rcParams['figure.figsize'] = (30, 20)\n",
    "plt.rcParams['image.cmap'] = 'gray'"
   ]
  },
  {
   "cell_type": "code",
   "execution_count": 10,
   "metadata": {},
   "outputs": [],
   "source": [
    "data_dict = OrderedDict({\n",
    "    'Customer':{'value':'','label': 'Customer','Pattern':'[\\d]{8}','zoning_type':'in_line'},\n",
    "    'Invoice':{'value':'','label': 'Invoice','Pattern':'\\d{10}', 'zoning_type':'in_line'},\n",
    "    'Date':{'value':'','label': 'Date','Pattern':'[\\d]{2}[\\/][\\d]{2}[\\/][\\d]{4}','zoning_type':'in_line'},\n",
    "    'Accounting CLERK NUMBER':{'value':'','label': 'Accounting','Pattern':'[\\d]{3}[-]+[\\d]{4}','zoning_type':'in_line'},\n",
    "    'products':{'value':'','label': 'Products:','Pattern':'[\\d]{3}.[0]+','zoning_type':'in_line'},\n",
    "\n",
    "})\n"
   ]
  },
  {
   "cell_type": "code",
   "execution_count": 4,
   "metadata": {},
   "outputs": [],
   "source": [
    "def ocr_the_image(image):\n",
    "    image = cv2.imread(image)\n",
    "    image_data = pytesseract.image_to_data(image , output_type=pytesseract.Output.DICT)\n",
    "    return image_data\n",
    "extracted_data=ocr_the_image('/home/kavinsharaj/Downloads/NLP HANDS ON (2)/NLP HANDS ON/ADI_d742b4d9-7586-4147-8ae1-b6a6fc0f8e20_1820465.png')"
   ]
  },
  {
   "cell_type": "code",
   "execution_count": 13,
   "metadata": {},
   "outputs": [],
   "source": [
    "def get_key_items(data):\n",
    "    for key in data_dict.keys():\n",
    "        to_find = data_dict[key]['label'].lower()\n",
    "  \n",
    "\n",
    "        for i in range(len(data['text'])):\n",
    "            if to_find in data['text'][i].lower():\n",
    "\n",
    "                x,y,w,h = data['left'][i], data['top'][i], data['width'][i], data['height'][i]\n",
    "\n",
    "                if data_dict[key]['zoning_type'] == \"in_line\":\n",
    "                    zoning_area = (x-10,y-10,w+x+600,h+y+10) \n",
    "\n",
    "                elif data_dict[key]['zoning_type'] == \"bottom_large\":\n",
    "                    zoning_area = (x-w,y-10,w+x+w,h+y+50) \n",
    "                else:\n",
    "                    zoning_area = (x-150,y+20,w+x+430,h+y+100)\n",
    "\n",
    "#                 cv2.rectangle(img,(zoning_area[0],zoning_area[1]),(zoning_area[2],zoning_area[3]),(255,0,0),3) \n",
    "\n",
    "                temp_string = \"\"\n",
    "                if data_dict[key]['value'] == \"\":\n",
    "                    for j in range(len(data['text'])):\n",
    "                        x,y,w,h = data['left'][j], data['top'][j], data['width'][j], data['height'][j]\n",
    "                        if x>=zoning_area[0] and y>=zoning_area[1] and x+w <= zoning_area[2] and y+h <= zoning_area[3]:\n",
    "\n",
    "                            temp_string += data['text'][j]+' '\n",
    "\n",
    "\n",
    "\n",
    "                    if re.findall(data_dict[key]['Pattern'], temp_string):\n",
    "\n",
    "                        data_dict[key]['value'] = re.findall(data_dict[key]['Pattern'], temp_string)[0]\n",
    "                        final_op = {key:data_dict[key]['value'] for key in data_dict.keys()}\n",
    "                   \n",
    "                    break\n",
    "    return final_op  \n",
    "    \n",
    "result=get_key_items(extracted_data)"
   ]
  },
  {
   "cell_type": "code",
   "execution_count": 14,
   "metadata": {},
   "outputs": [
    {
     "data": {
      "text/plain": [
       "{'Customer': '10012844',\n",
       " 'Invoice': '',\n",
       " 'Date': '08/10/2021',\n",
       " 'Accounting CLERK NUMBER': '',\n",
       " 'products': '301.00'}"
      ]
     },
     "execution_count": 14,
     "metadata": {},
     "output_type": "execute_result"
    }
   ],
   "source": [
    "result"
   ]
  },
  {
   "cell_type": "code",
   "execution_count": null,
   "metadata": {},
   "outputs": [],
   "source": []
  },
  {
   "cell_type": "code",
   "execution_count": null,
   "metadata": {},
   "outputs": [],
   "source": []
  }
 ],
 "metadata": {
  "kernelspec": {
   "display_name": "Python 3 (ipykernel)",
   "language": "python",
   "name": "python3"
  },
  "language_info": {
   "codemirror_mode": {
    "name": "ipython",
    "version": 3
   },
   "file_extension": ".py",
   "mimetype": "text/x-python",
   "name": "python",
   "nbconvert_exporter": "python",
   "pygments_lexer": "ipython3",
   "version": "3.8.10"
  }
 },
 "nbformat": 4,
 "nbformat_minor": 4
}
